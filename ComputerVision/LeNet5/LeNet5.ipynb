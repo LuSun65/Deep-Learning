{
  "cells": [
    {
      "cell_type": "code",
      "execution_count": 1,
      "metadata": {
        "id": "TGToFeAdNDE3",
        "colab": {
          "base_uri": "https://localhost:8080/"
        },
        "outputId": "13d90ec5-2354-4924-eff7-d079f9463de1"
      },
      "outputs": [
        {
          "output_type": "stream",
          "name": "stderr",
          "text": [
            "100%|██████████| 9.91M/9.91M [00:00<00:00, 18.3MB/s]\n",
            "100%|██████████| 28.9k/28.9k [00:00<00:00, 505kB/s]\n",
            "100%|██████████| 1.65M/1.65M [00:00<00:00, 3.98MB/s]\n",
            "100%|██████████| 4.54k/4.54k [00:00<00:00, 6.92MB/s]\n"
          ]
        }
      ],
      "source": [
        "# Import MNIST dataset from torchvision\n",
        "import torch\n",
        "import torchvision\n",
        "from torch.utils.data import random_split, DataLoader, TensorDataset\n",
        "import torch.nn as nn\n",
        "\n",
        "# Load Data\n",
        "mnist_dataset = torchvision.datasets.MNIST(root = \".\", download = True)\n",
        "\n",
        "train_size = int(0.9 * len(mnist_dataset))\n",
        "val_size = len(mnist_dataset) - train_size\n",
        "\n",
        "# Train / Val Split\n",
        "train_dataset, val_dataset = random_split(mnist_dataset, [train_size, val_size])\n",
        "\n",
        "train_x_data = train_dataset.dataset.data[train_dataset.indices]\n",
        "train_y_data = train_dataset.dataset.targets[train_dataset.indices]\n",
        "val_x_data   = val_dataset.dataset.data[val_dataset.indices]\n",
        "val_y_data   = val_dataset.dataset.targets[val_dataset.indices]\n",
        "\n",
        "# Comb TensorDataset\n",
        "train_tensor_dataset = TensorDataset(train_x_data, train_y_data)\n",
        "val_tensor_dataset = TensorDataset(val_x_data, val_y_data)\n",
        "\n",
        "# DataLoader\n",
        "train_loader = DataLoader(train_tensor_dataset, batch_size=128, shuffle=True, num_workers=0)\n",
        "val_loader = DataLoader(val_tensor_dataset, batch_size=128, shuffle=False, num_workers=0)"
      ]
    },
    {
      "cell_type": "code",
      "execution_count": 2,
      "metadata": {
        "id": "NjijG78pNlfy"
      },
      "outputs": [],
      "source": [
        "import torch\n",
        "import torch.nn as nn\n",
        "import torch.nn.functional as F\n",
        "\n",
        "class LeNet(nn.Module):\n",
        "  # Your Model is Defined Here\n",
        "  def __init__(self):\n",
        "    super().__init__()\n",
        "    self.net = nn.Sequential(\n",
        "        nn.Conv2d(1, 6, kernel_size=5, padding=2),\n",
        "        nn.Sigmoid(),\n",
        "        nn.AvgPool2d(kernel_size=2, stride=2),\n",
        "        nn.Conv2d(6, 16, kernel_size=5),\n",
        "        nn.Sigmoid(),\n",
        "        nn.AvgPool2d(kernel_size=2, stride=2),\n",
        "        nn.Flatten(),\n",
        "        nn.Linear(16 * 5 * 5, 120),\n",
        "        nn.Linear(120, 84),\n",
        "        nn.Linear(84,10)\n",
        "    )\n",
        "\n",
        "  def forward(self, x):\n",
        "    return self.net(x)\n",
        "\n",
        "model = LeNet()"
      ]
    },
    {
      "cell_type": "code",
      "execution_count": 9,
      "metadata": {
        "id": "oHN9fCjlOYL3",
        "colab": {
          "base_uri": "https://localhost:8080/"
        },
        "outputId": "f03366c4-b867-43ab-dfa0-371262b36e8c"
      },
      "outputs": [
        {
          "output_type": "stream",
          "name": "stderr",
          "text": [
            "  3%|▎         | 1/30 [00:01<00:43,  1.49s/it]"
          ]
        },
        {
          "output_type": "stream",
          "name": "stdout",
          "text": [
            "Epoch 0: Loss=0.1045, Acc=0.9691, Val_Acc=0.9657\n"
          ]
        },
        {
          "output_type": "stream",
          "name": "stderr",
          "text": [
            "\r  7%|▋         | 2/30 [00:02<00:40,  1.46s/it]"
          ]
        },
        {
          "output_type": "stream",
          "name": "stdout",
          "text": [
            "Epoch 1: Loss=0.1029, Acc=0.9694, Val_Acc=0.9668\n"
          ]
        },
        {
          "output_type": "stream",
          "name": "stderr",
          "text": [
            "\r 10%|█         | 3/30 [00:04<00:39,  1.45s/it]"
          ]
        },
        {
          "output_type": "stream",
          "name": "stdout",
          "text": [
            "Epoch 2: Loss=0.1014, Acc=0.9706, Val_Acc=0.9680\n"
          ]
        },
        {
          "output_type": "stream",
          "name": "stderr",
          "text": [
            "\r 13%|█▎        | 4/30 [00:05<00:37,  1.45s/it]"
          ]
        },
        {
          "output_type": "stream",
          "name": "stdout",
          "text": [
            "Epoch 3: Loss=0.0999, Acc=0.9706, Val_Acc=0.9665\n"
          ]
        },
        {
          "output_type": "stream",
          "name": "stderr",
          "text": [
            "\r 17%|█▋        | 5/30 [00:07<00:38,  1.53s/it]"
          ]
        },
        {
          "output_type": "stream",
          "name": "stdout",
          "text": [
            "Epoch 4: Loss=0.0991, Acc=0.9708, Val_Acc=0.9650\n"
          ]
        },
        {
          "output_type": "stream",
          "name": "stderr",
          "text": [
            "\r 20%|██        | 6/30 [00:09<00:38,  1.61s/it]"
          ]
        },
        {
          "output_type": "stream",
          "name": "stdout",
          "text": [
            "Epoch 5: Loss=0.0982, Acc=0.9712, Val_Acc=0.9657\n"
          ]
        },
        {
          "output_type": "stream",
          "name": "stderr",
          "text": [
            "\r 23%|██▎       | 7/30 [00:10<00:35,  1.54s/it]"
          ]
        },
        {
          "output_type": "stream",
          "name": "stdout",
          "text": [
            "Epoch 6: Loss=0.0965, Acc=0.9717, Val_Acc=0.9652\n"
          ]
        },
        {
          "output_type": "stream",
          "name": "stderr",
          "text": [
            "\r 27%|██▋       | 8/30 [00:12<00:33,  1.52s/it]"
          ]
        },
        {
          "output_type": "stream",
          "name": "stdout",
          "text": [
            "Epoch 7: Loss=0.0955, Acc=0.9718, Val_Acc=0.9693\n"
          ]
        },
        {
          "output_type": "stream",
          "name": "stderr",
          "text": [
            "\r 30%|███       | 9/30 [00:13<00:31,  1.50s/it]"
          ]
        },
        {
          "output_type": "stream",
          "name": "stdout",
          "text": [
            "Epoch 8: Loss=0.0949, Acc=0.9719, Val_Acc=0.9675\n"
          ]
        },
        {
          "output_type": "stream",
          "name": "stderr",
          "text": [
            "\r 33%|███▎      | 10/30 [00:15<00:29,  1.49s/it]"
          ]
        },
        {
          "output_type": "stream",
          "name": "stdout",
          "text": [
            "Epoch 9: Loss=0.0937, Acc=0.9719, Val_Acc=0.9685\n"
          ]
        },
        {
          "output_type": "stream",
          "name": "stderr",
          "text": [
            "\r 37%|███▋      | 11/30 [00:16<00:28,  1.48s/it]"
          ]
        },
        {
          "output_type": "stream",
          "name": "stdout",
          "text": [
            "Epoch 10: Loss=0.0927, Acc=0.9728, Val_Acc=0.9692\n"
          ]
        },
        {
          "output_type": "stream",
          "name": "stderr",
          "text": [
            "\r 40%|████      | 12/30 [00:17<00:26,  1.48s/it]"
          ]
        },
        {
          "output_type": "stream",
          "name": "stdout",
          "text": [
            "Epoch 11: Loss=0.0921, Acc=0.9724, Val_Acc=0.9680\n"
          ]
        },
        {
          "output_type": "stream",
          "name": "stderr",
          "text": [
            "\r 43%|████▎     | 13/30 [00:19<00:26,  1.54s/it]"
          ]
        },
        {
          "output_type": "stream",
          "name": "stdout",
          "text": [
            "Epoch 12: Loss=0.0910, Acc=0.9730, Val_Acc=0.9692\n"
          ]
        },
        {
          "output_type": "stream",
          "name": "stderr",
          "text": [
            "\r 47%|████▋     | 14/30 [00:21<00:25,  1.60s/it]"
          ]
        },
        {
          "output_type": "stream",
          "name": "stdout",
          "text": [
            "Epoch 13: Loss=0.0899, Acc=0.9729, Val_Acc=0.9688\n"
          ]
        },
        {
          "output_type": "stream",
          "name": "stderr",
          "text": [
            "\r 50%|█████     | 15/30 [00:22<00:23,  1.56s/it]"
          ]
        },
        {
          "output_type": "stream",
          "name": "stdout",
          "text": [
            "Epoch 14: Loss=0.0889, Acc=0.9737, Val_Acc=0.9702\n"
          ]
        },
        {
          "output_type": "stream",
          "name": "stderr",
          "text": [
            "\r 53%|█████▎    | 16/30 [00:24<00:21,  1.54s/it]"
          ]
        },
        {
          "output_type": "stream",
          "name": "stdout",
          "text": [
            "Epoch 15: Loss=0.0885, Acc=0.9737, Val_Acc=0.9707\n"
          ]
        },
        {
          "output_type": "stream",
          "name": "stderr",
          "text": [
            "\r 57%|█████▋    | 17/30 [00:25<00:19,  1.52s/it]"
          ]
        },
        {
          "output_type": "stream",
          "name": "stdout",
          "text": [
            "Epoch 16: Loss=0.0879, Acc=0.9739, Val_Acc=0.9710\n"
          ]
        },
        {
          "output_type": "stream",
          "name": "stderr",
          "text": [
            "\r 60%|██████    | 18/30 [00:27<00:18,  1.51s/it]"
          ]
        },
        {
          "output_type": "stream",
          "name": "stdout",
          "text": [
            "Epoch 17: Loss=0.0868, Acc=0.9742, Val_Acc=0.9723\n"
          ]
        },
        {
          "output_type": "stream",
          "name": "stderr",
          "text": [
            "\r 63%|██████▎   | 19/30 [00:28<00:16,  1.50s/it]"
          ]
        },
        {
          "output_type": "stream",
          "name": "stdout",
          "text": [
            "Epoch 18: Loss=0.0859, Acc=0.9743, Val_Acc=0.9705\n"
          ]
        },
        {
          "output_type": "stream",
          "name": "stderr",
          "text": [
            "\r 67%|██████▋   | 20/30 [00:30<00:14,  1.48s/it]"
          ]
        },
        {
          "output_type": "stream",
          "name": "stdout",
          "text": [
            "Epoch 19: Loss=0.0856, Acc=0.9745, Val_Acc=0.9713\n"
          ]
        },
        {
          "output_type": "stream",
          "name": "stderr",
          "text": [
            "\r 70%|███████   | 21/30 [00:32<00:14,  1.57s/it]"
          ]
        },
        {
          "output_type": "stream",
          "name": "stdout",
          "text": [
            "Epoch 20: Loss=0.0845, Acc=0.9746, Val_Acc=0.9718\n"
          ]
        },
        {
          "output_type": "stream",
          "name": "stderr",
          "text": [
            "\r 73%|███████▎  | 22/30 [00:33<00:12,  1.60s/it]"
          ]
        },
        {
          "output_type": "stream",
          "name": "stdout",
          "text": [
            "Epoch 21: Loss=0.0843, Acc=0.9749, Val_Acc=0.9713\n"
          ]
        },
        {
          "output_type": "stream",
          "name": "stderr",
          "text": [
            "\r 77%|███████▋  | 23/30 [00:35<00:10,  1.57s/it]"
          ]
        },
        {
          "output_type": "stream",
          "name": "stdout",
          "text": [
            "Epoch 22: Loss=0.0827, Acc=0.9753, Val_Acc=0.9727\n"
          ]
        },
        {
          "output_type": "stream",
          "name": "stderr",
          "text": [
            "\r 80%|████████  | 24/30 [00:36<00:09,  1.53s/it]"
          ]
        },
        {
          "output_type": "stream",
          "name": "stdout",
          "text": [
            "Epoch 23: Loss=0.0824, Acc=0.9754, Val_Acc=0.9728\n"
          ]
        },
        {
          "output_type": "stream",
          "name": "stderr",
          "text": [
            "\r 83%|████████▎ | 25/30 [00:38<00:07,  1.51s/it]"
          ]
        },
        {
          "output_type": "stream",
          "name": "stdout",
          "text": [
            "Epoch 24: Loss=0.0819, Acc=0.9759, Val_Acc=0.9715\n"
          ]
        },
        {
          "output_type": "stream",
          "name": "stderr",
          "text": [
            "\r 87%|████████▋ | 26/30 [00:39<00:05,  1.50s/it]"
          ]
        },
        {
          "output_type": "stream",
          "name": "stdout",
          "text": [
            "Epoch 25: Loss=0.0811, Acc=0.9759, Val_Acc=0.9733\n"
          ]
        },
        {
          "output_type": "stream",
          "name": "stderr",
          "text": [
            "\r 90%|█████████ | 27/30 [00:40<00:04,  1.48s/it]"
          ]
        },
        {
          "output_type": "stream",
          "name": "stdout",
          "text": [
            "Epoch 26: Loss=0.0802, Acc=0.9760, Val_Acc=0.9732\n"
          ]
        },
        {
          "output_type": "stream",
          "name": "stderr",
          "text": [
            "\r 93%|█████████▎| 28/30 [00:42<00:02,  1.48s/it]"
          ]
        },
        {
          "output_type": "stream",
          "name": "stdout",
          "text": [
            "Epoch 27: Loss=0.0800, Acc=0.9761, Val_Acc=0.9712\n"
          ]
        },
        {
          "output_type": "stream",
          "name": "stderr",
          "text": [
            "\r 97%|█████████▋| 29/30 [00:44<00:01,  1.58s/it]"
          ]
        },
        {
          "output_type": "stream",
          "name": "stdout",
          "text": [
            "Epoch 28: Loss=0.0791, Acc=0.9765, Val_Acc=0.9722\n"
          ]
        },
        {
          "output_type": "stream",
          "name": "stderr",
          "text": [
            "100%|██████████| 30/30 [00:45<00:00,  1.53s/it]"
          ]
        },
        {
          "output_type": "stream",
          "name": "stdout",
          "text": [
            "Epoch 29: Loss=0.0785, Acc=0.9768, Val_Acc=0.9728\n"
          ]
        },
        {
          "output_type": "stream",
          "name": "stderr",
          "text": [
            "\n"
          ]
        }
      ],
      "source": [
        "from tqdm import tqdm\n",
        "\n",
        "max_epochs = 20\n",
        "learning_rate = 5 * 1e-5\n",
        "device = \"cuda\" if torch.cuda.is_available() else \"cpu\"\n",
        "model = model.to(device)\n",
        "\n",
        "optimizer = torch.optim.Adam(model.parameters(), lr=learning_rate)\n",
        "criterion = nn.CrossEntropyLoss()\n",
        "\n",
        "for epoch in tqdm(range(max_epochs)):\n",
        "    model.train()\n",
        "    total = 0\n",
        "    correct = 0\n",
        "    cur_loss = 0.0\n",
        "\n",
        "    for train_x, train_y in train_loader:\n",
        "        train_x = train_x.float().to(device)       # [batch, 28, 28]\n",
        "        train_y = train_y.to(device)               # [batch]\n",
        "        if train_x.dim() == 3:\n",
        "            train_x = train_x.unsqueeze(1)         # [batch, 1, 28, 28]\n",
        "\n",
        "        predict_y = model(train_x)                 # [batch, 10]\n",
        "        loss = criterion(predict_y, train_y)\n",
        "        optimizer.zero_grad()\n",
        "        loss.backward()\n",
        "        optimizer.step()\n",
        "\n",
        "        cur_loss += loss.item() * train_x.size(0)  # total loss\n",
        "        preds = predict_y.argmax(dim=1)            # [batch]\n",
        "        correct += (preds == train_y).sum().item()\n",
        "        total += train_x.size(0)\n",
        "\n",
        "    avg_loss = cur_loss / total\n",
        "    acc = correct / total\n",
        "\n",
        "    val_total = 0\n",
        "    val_correct = 0\n",
        "    for val_x, val_y in val_loader:\n",
        "      val_x = val_x.float().to(device)\n",
        "      val_y = val_y.to(device)\n",
        "      if val_x.dim() == 3:\n",
        "          val_x = val_x.unsqueeze(1)         # [batch, 1, 28, 28]\n",
        "      predict_val_y = model(val_x)                 # [batch, 10]\n",
        "\n",
        "      preds = predict_val_y.argmax(dim=1)            # [batch]\n",
        "      val_correct += (preds == val_y).sum().item()\n",
        "      val_total += val_x.size(0)\n",
        "\n",
        "    val_acc = val_correct / val_total\n",
        "    print(f\"Epoch {epoch}: Loss={avg_loss:.4f}, Acc={acc:.4f}, Val_Acc={val_acc:.4f}\")\n"
      ]
    }
  ],
  "metadata": {
    "accelerator": "GPU",
    "colab": {
      "gpuType": "T4",
      "provenance": []
    },
    "kernelspec": {
      "display_name": "Python 3",
      "name": "python3"
    },
    "language_info": {
      "codemirror_mode": {
        "name": "ipython",
        "version": 3
      },
      "file_extension": ".py",
      "mimetype": "text/x-python",
      "name": "python",
      "nbconvert_exporter": "python",
      "pygments_lexer": "ipython3",
      "version": "3.11.9"
    }
  },
  "nbformat": 4,
  "nbformat_minor": 0
}